{
 "cells": [
  {
   "cell_type": "code",
   "execution_count": 1,
   "metadata": {},
   "outputs": [],
   "source": [
    "from collections import namedtuple\n",
    "import scipy.stats as sps\n",
    "import statsmodels.stats.api as sms\n",
    "from tqdm.notebook import tqdm as tqdm_notebook # tqdm – библиотека для визуализации прогресса в цикле\n",
    "from collections import defaultdict\n",
    "from statsmodels.stats.proportion import proportion_confint\n",
    "import numpy as np\n",
    "import itertools\n",
    "import seaborn as sns\n",
    "import matplotlib.pyplot as plt\n",
    "import seaborn as sns\n",
    "sns.set(font_scale=1.5, palette='Set2')\n",
    "ExperimentComparisonResults = namedtuple('ExperimentComparisonResults', \n",
    "                                        ['pvalue', 'effect', 'ci_length', 'left_bound', 'right_bound'])"
   ]
  },
  {
   "cell_type": "markdown",
   "metadata": {},
   "source": [
    "# Абсолютный критерий"
   ]
  },
  {
   "cell_type": "code",
   "execution_count": 2,
   "metadata": {},
   "outputs": [],
   "source": [
    "def absolute_ttest(control, test):\n",
    "    mean_control = np.mean(control)\n",
    "    mean_test = np.mean(test)\n",
    "    var_mean_control  = np.var(control) / len(control)\n",
    "    var_mean_test  = np.var(test) / len(test)\n",
    "    \n",
    "    difference_mean = mean_test - mean_control\n",
    "    difference_mean_var = var_mean_control + var_mean_test\n",
    "    difference_distribution = sps.norm(loc=difference_mean, scale=np.sqrt(difference_mean_var))\n",
    "\n",
    "    left_bound, right_bound = difference_distribution.ppf([0.025, 0.975])\n",
    "    ci_length = (right_bound - left_bound)\n",
    "    pvalue = 2 * min(difference_distribution.cdf(0), difference_distribution.sf(0))\n",
    "    effect = difference_mean\n",
    "    return ExperimentComparisonResults(pvalue, effect, ci_length, left_bound, right_bound)\n",
    "\n",
    "\n",
    "\n",
    "# 2. Создание тестируемого критерия\n",
    "def cuped_ttest(control, test, control_before, test_before):\n",
    "    theta = (np.cov(control, control_before)[0, 1] + np.cov(test, test_before)[0, 1]) /\\\n",
    "                (np.var(control_before) + np.var(test_before))\n",
    "\n",
    "    control_cup = control - theta * control_before\n",
    "    test_cup = test - theta * test_before\n",
    "    return absolute_ttest(control_cup, test_cup)"
   ]
  },
  {
   "cell_type": "markdown",
   "metadata": {},
   "source": [
    "AB-тест"
   ]
  },
  {
   "cell_type": "code",
   "execution_count": 9,
   "metadata": {},
   "outputs": [
    {
     "data": {
      "application/vnd.jupyter.widget-view+json": {
       "model_id": "94eefd19d4f7479d96a9eb4700eb28ad",
       "version_major": 2,
       "version_minor": 0
      },
      "text/plain": [
       "  0%|          | 0/30000 [00:00<?, ?it/s]"
      ]
     },
     "metadata": {},
     "output_type": "display_data"
    },
    {
     "name": "stdout",
     "output_type": "stream",
     "text": [
      "Реальный уровень значимости: 0.0513; доверительный интервал: [0.0489, 0.0539]\n"
     ]
    }
   ],
   "source": [
    "# 3. Заводим счетчик\n",
    "bad_cnt = 0\n",
    "\n",
    "# 4. Цикл проверки\n",
    "N = 30000\n",
    "for i in tqdm_notebook(range(N)):\n",
    "    # 4.a. Тестирую AB - тест\n",
    "    control_before = sps.expon(scale=1000).rvs(1000)\n",
    "    control = control_before + sps.norm(loc=0, scale=100).rvs(1000)\n",
    "\n",
    "    test_before = sps.expon(scale=1000).rvs(1000)\n",
    "    test = test_before + sps.norm(loc=0, scale=100).rvs(1000)\n",
    "    test *= 1.1\n",
    "\n",
    "    # 4.b. Запускаю критерий\n",
    "    _, _, _, left_bound, right_bound = cuped_ttest(control, test, control_before, test_before)\n",
    "    \n",
    "    # 4.c. Проверяю, лежит ли истинная разница средних в доверительном интервале\n",
    "    if left_bound > 100 or right_bound < 100:\n",
    "        bad_cnt += 1\n",
    "        \n",
    "# 5. Строю доверительный интервал для конверсии ошибок у критерия.\n",
    "left_real_level, right_real_level = proportion_confint(count = bad_cnt, nobs = N, alpha=0.05, method='wilson')\n",
    "# Результат\n",
    "print(f\"Реальный уровень значимости: {round(bad_cnt / N, 4)};\"\n",
    "      f\" доверительный интервал: [{round(left_real_level, 4)}, {round(right_real_level, 4)}]\")"
   ]
  },
  {
   "cell_type": "markdown",
   "metadata": {},
   "source": [
    "### Сравнение мощности с t-test"
   ]
  },
  {
   "cell_type": "code",
   "execution_count": 4,
   "metadata": {},
   "outputs": [
    {
     "data": {
      "application/vnd.jupyter.widget-view+json": {
       "model_id": "17fc5bbd7d8048e099713b79fb38037a",
       "version_major": 2,
       "version_minor": 0
      },
      "text/plain": [
       "  0%|          | 0/30000 [00:00<?, ?it/s]"
      ]
     },
     "metadata": {},
     "output_type": "display_data"
    },
    {
     "name": "stdout",
     "output_type": "stream",
     "text": [
      "Отношение ширины доверительных интервалов друг к другу: 11.015%\n"
     ]
    }
   ],
   "source": [
    "cuped_ci_lengths = []\n",
    "ttest_ci_lengths = []\n",
    "N = 30000\n",
    "for i in tqdm_notebook(range(N)):\n",
    "    # 4.a. Тестирую AB - тест\n",
    "    control_before = sps.expon(scale=1000).rvs(1000)\n",
    "    control = control_before + sps.norm(loc=0, scale=100).rvs(1000)\n",
    "\n",
    "    test_before = sps.expon(scale=1000).rvs(1000)\n",
    "    test = test_before + sps.norm(loc=0, scale=100).rvs(1000)\n",
    "    test *= 1.1\n",
    "\n",
    "    # 4.b. Запускаю критерий\n",
    "    _, _, cuped_ci, _, _ = cuped_ttest(control, test, control_before, test_before)\n",
    "    _, _, ttest_ci, _, _ = absolute_ttest(control, test)\n",
    "\n",
    "    cuped_ci_lengths.append(cuped_ci)\n",
    "    ttest_ci_lengths.append(ttest_ci)\n",
    "    \n",
    "coeff = np.mean(cuped_ci_lengths) / np.mean(ttest_ci_lengths)\n",
    "print(f\"Отношение ширины доверительных интервалов друг к другу: {round(coeff * 100, 3)}%\")"
   ]
  },
  {
   "cell_type": "markdown",
   "metadata": {},
   "source": [
    "## некорректная ковариата с \"нулевым\" средним"
   ]
  },
  {
   "cell_type": "code",
   "execution_count": 5,
   "metadata": {},
   "outputs": [],
   "source": [
    "# 2. Создание тестируемого критерия\n",
    "def incorrect_cuped(control, test, control_before, test_before):\n",
    "    theta = (np.cov(control, control_before)[0, 1] + np.cov(test, test_before)[0, 1]) /\\\n",
    "                (np.var(control_before) + np.var(test_before))\n",
    "    \n",
    "    control_mean = np.mean(control_before)\n",
    "    test_mean    = np.mean(test_before)\n",
    "\n",
    "    control_cup = control - theta * (control_before - control_mean)\n",
    "    test_cup = test - theta * (test_before - test_mean)\n",
    "    return absolute_ttest(control_cup, test_cup)"
   ]
  },
  {
   "cell_type": "markdown",
   "metadata": {},
   "source": [
    "AA-тест"
   ]
  },
  {
   "cell_type": "code",
   "execution_count": 6,
   "metadata": {},
   "outputs": [
    {
     "data": {
      "application/vnd.jupyter.widget-view+json": {
       "model_id": "414fbdf14d024f7a99a838eb45db4f2b",
       "version_major": 2,
       "version_minor": 0
      },
      "text/plain": [
       "  0%|          | 0/30000 [00:00<?, ?it/s]"
      ]
     },
     "metadata": {},
     "output_type": "display_data"
    },
    {
     "name": "stdout",
     "output_type": "stream",
     "text": [
      "Реальный уровень значимости: 0.8964; доверительный интервал: [0.8929, 0.8998]\n"
     ]
    }
   ],
   "source": [
    "# 4. Цикл проверки\n",
    "N = 30000\n",
    "for i in tqdm_notebook(range(N)):\n",
    "    \n",
    "    # 4.a. Тестирую AA - тест\n",
    "    control_before = sps.expon(scale=1000).rvs(1000)\n",
    "    control = control_before + sps.norm(loc=0, scale=100).rvs(1000)\n",
    "\n",
    "    test_before = sps.expon(scale=1000).rvs(1000)\n",
    "    test = test_before + sps.norm(loc=0, scale=100).rvs(1000)\n",
    "\n",
    "    # 4.b. Запускаю критерий\n",
    "    _, _, _, left_bound, right_bound = incorrect_cuped(control, test, control_before, test_before)\n",
    "    \n",
    "    # 4.c. Проверяю, лежит ли истинная разница средних в доверительном интервале\n",
    "    if left_bound > 0 or right_bound < 0:\n",
    "        bad_cnt += 1\n",
    "        \n",
    "# 5. Строю доверительный интервал для конверсии ошибок у критерия.\n",
    "left_real_level, right_real_level = proportion_confint(count = bad_cnt, nobs = N, alpha=0.05, method='wilson')\n",
    "# Результат\n",
    "print(f\"Реальный уровень значимости: {round(bad_cnt / N, 4)};\"\n",
    "      f\" доверительный интервал: [{round(left_real_level, 4)}, {round(right_real_level, 4)}]\")"
   ]
  },
  {
   "cell_type": "markdown",
   "metadata": {},
   "source": [
    "Сколько раз истинное мат. ожидание C попадает в доверительный интервал для мат.ожидания C''"
   ]
  },
  {
   "cell_type": "code",
   "execution_count": 10,
   "metadata": {},
   "outputs": [
    {
     "data": {
      "application/vnd.jupyter.widget-view+json": {
       "model_id": "b7315f05bd5e4b82ae15abb217bbc55a",
       "version_major": 2,
       "version_minor": 0
      },
      "text/plain": [
       "  0%|          | 0/1000 [00:00<?, ?it/s]"
      ]
     },
     "metadata": {},
     "output_type": "display_data"
    },
    {
     "name": "stdout",
     "output_type": "stream",
     "text": [
      "Не попал в 85.2% случаев; доверительный интервал: [82.86%, 87.27000000000001%]\n"
     ]
    }
   ],
   "source": [
    "bad_cnt = 0\n",
    "\n",
    "N = 1000\n",
    "for i in tqdm_notebook(range(N)):\n",
    "    control_before = sps.expon(scale=1000).rvs(1000)\n",
    "    control = control_before + sps.norm(loc=0, scale=100).rvs(1000)\n",
    "\n",
    "    control_cup = control - (control_before - np.mean(control_before))\n",
    "    std = np.std(control_cup) / np.sqrt(len(control_cup))\n",
    "    mean = np.mean(control_cup)\n",
    "\n",
    "    left_bound, right_bound = sps.norm(loc=mean, scale=std).ppf([0.025, 0.975])\n",
    "    \n",
    "    if left_bound > 1000 or right_bound < 1000:\n",
    "        bad_cnt += 1\n",
    "    \n",
    "left_real_level, right_real_level = proportion_confint(count = bad_cnt, nobs = N, alpha=0.05, method='wilson')\n",
    "print(f\"Не попал в {round(bad_cnt / N, 4) * 100}% случаев;\"\n",
    "      f\" доверительный интервал: [{round(left_real_level, 4) * 100}%, {round(right_real_level, 4) * 100}%]\")"
   ]
  },
  {
   "cell_type": "markdown",
   "metadata": {},
   "source": [
    "# Относительный критерий\n"
   ]
  },
  {
   "cell_type": "code",
   "execution_count": 7,
   "metadata": {},
   "outputs": [],
   "source": [
    "# 2. Создание тестируемого критерия\n",
    "def relative_cuped(control, test, control_before, test_before):\n",
    "    theta = (np.cov(control, control_before)[0, 1] + np.cov(test, test_before)[0, 1]) /\\\n",
    "                (np.var(control_before) + np.var(test_before))\n",
    "\n",
    "    control_cup = control - theta * control_before\n",
    "    test_cup = test - theta * test_before\n",
    "\n",
    "    mean_den = np.mean(control)\n",
    "    mean_num = np.mean(test_cup) - np.mean(control_cup)\n",
    "    var_mean_den  = np.var(control) / len(control)\n",
    "    var_mean_num  = np.var(test_cup) / len(test_cup) + np.var(control_cup) / len(control_cup)\n",
    "\n",
    "    cov = -np.cov(control_cup, control)[0, 1] / len(control)\n",
    "\n",
    "    relative_mu = mean_num / mean_den\n",
    "    relative_var = var_mean_num / (mean_den ** 2)  + var_mean_den * ((mean_num ** 2) / (mean_den ** 4))\\\n",
    "                - 2 * (mean_num / (mean_den ** 3)) * cov\n",
    "    \n",
    "    relative_distribution = sps.norm(loc=relative_mu, scale=np.sqrt(relative_var))\n",
    "    left_bound, right_bound = relative_distribution.ppf([0.025, 0.975])\n",
    "    \n",
    "    ci_length = (right_bound - left_bound)\n",
    "    pvalue = 2 * min(relative_distribution.cdf(0), relative_distribution.sf(0))\n",
    "    effect = relative_mu\n",
    "    return ExperimentComparisonResults(pvalue, effect, ci_length, left_bound, right_bound)"
   ]
  },
  {
   "cell_type": "markdown",
   "metadata": {},
   "source": [
    "AB-тест"
   ]
  },
  {
   "cell_type": "code",
   "execution_count": 8,
   "metadata": {},
   "outputs": [
    {
     "data": {
      "application/vnd.jupyter.widget-view+json": {
       "model_id": "37cbbb2cd37f4df5bf7d1ba77e3bf635",
       "version_major": 2,
       "version_minor": 0
      },
      "text/plain": [
       "  0%|          | 0/30000 [00:00<?, ?it/s]"
      ]
     },
     "metadata": {},
     "output_type": "display_data"
    },
    {
     "name": "stdout",
     "output_type": "stream",
     "text": [
      "Реальный уровень значимости: 0.0506; доверительный интервал: [0.0481, 0.0531]\n"
     ]
    }
   ],
   "source": [
    "# 3. Заводим счетчик\n",
    "bad_cnt = 0\n",
    "\n",
    "# 4. Цикл проверки\n",
    "N = 30000\n",
    "cis = []\n",
    "for i in tqdm_notebook(range(N)):\n",
    "    # 4.a. Тестирую AB - тест\n",
    "    control_before = sps.expon(scale=1000).rvs(1000)\n",
    "    control = control_before + sps.norm(loc=0, scale=100).rvs(1000)\n",
    "\n",
    "    test_before = sps.expon(scale=1000).rvs(1000)\n",
    "    test = test_before + sps.norm(loc=0, scale=100).rvs(1000)\n",
    "    test *= 1.1\n",
    "\n",
    "    # 4.b. Запускаю критерий\n",
    "    _, _, ci, left_bound, right_bound = relative_cuped(control, test, control_before, test_before)\n",
    "    cis.append(ci)\n",
    "    # 4.c. Проверяю, лежит ли истинная разница средних в доверительном интервале\n",
    "    if left_bound > 0.1 or right_bound < 0.1:\n",
    "        bad_cnt += 1\n",
    "\n",
    "# 5. Строю доверительный интервал для конверсии ошибок у критерия.\n",
    "left_real_level, right_real_level = proportion_confint(count = bad_cnt, nobs = N, alpha=0.05, method='wilson')\n",
    "# Результат\n",
    "print(f\"Реальный уровень значимости: {round(bad_cnt / N, 4)};\"\n",
    "      f\" доверительный интервал: [{round(left_real_level, 4)}, {round(right_real_level, 4)}]\")"
   ]
  },
  {
   "cell_type": "code",
   "execution_count": null,
   "metadata": {},
   "outputs": [],
   "source": []
  }
 ],
 "metadata": {
  "kernelspec": {
   "display_name": "Python 3",
   "language": "python",
   "name": "python3"
  },
  "language_info": {
   "codemirror_mode": {
    "name": "ipython",
    "version": 3
   },
   "file_extension": ".py",
   "mimetype": "text/x-python",
   "name": "python",
   "nbconvert_exporter": "python",
   "pygments_lexer": "ipython3",
   "version": "3.8.3"
  }
 },
 "nbformat": 4,
 "nbformat_minor": 4
}
