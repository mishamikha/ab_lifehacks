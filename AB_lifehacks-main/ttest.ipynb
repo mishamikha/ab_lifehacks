{
 "cells": [
  {
   "cell_type": "code",
   "execution_count": 1,
   "metadata": {},
   "outputs": [],
   "source": [
    "from collections import namedtuple\n",
    "import scipy.stats as sps\n",
    "import statsmodels.stats.api as sms\n",
    "from tqdm.notebook import tqdm as tqdm_notebook # tqdm – библиотека для визуализации прогресса в цикле\n",
    "from collections import defaultdict\n",
    "from statsmodels.stats.proportion import proportion_confint\n",
    "import numpy as np\n",
    "import itertools\n",
    "import seaborn as sns\n",
    "import matplotlib.pyplot as plt\n",
    "import seaborn as sns\n",
    "sns.set(font_scale=1.5, palette='Set2')\n",
    "ExperimentComparisonResults = namedtuple('ExperimentComparisonResults', \n",
    "                                        ['pvalue', 'effect', 'ci_length', 'left_bound', 'right_bound'])"
   ]
  },
  {
   "cell_type": "markdown",
   "metadata": {},
   "source": [
    "# Абсолютный t-test критерий"
   ]
  },
  {
   "cell_type": "code",
   "execution_count": 2,
   "metadata": {},
   "outputs": [],
   "source": [
    "# 2. Создание тестируемого критерия\n",
    "def absolute_ttest(control, test):\n",
    "    mean_control = np.mean(control)\n",
    "    mean_test = np.mean(test)\n",
    "    var_mean_control  = np.var(control) / len(control)\n",
    "    var_mean_test  = np.var(test) / len(test)\n",
    "    \n",
    "    difference_mean = mean_test - mean_control\n",
    "    difference_mean_var = var_mean_control + var_mean_test\n",
    "    difference_distribution = sps.norm(loc=difference_mean, scale=np.sqrt(difference_mean_var))\n",
    "\n",
    "    left_bound, right_bound = difference_distribution.ppf([0.025, 0.975])\n",
    "    ci_length = (right_bound - left_bound)\n",
    "    pvalue = 2 * min(difference_distribution.cdf(0), difference_distribution.sf(0))\n",
    "    effect = difference_mean\n",
    "    return ExperimentComparisonResults(pvalue, effect, ci_length, left_bound, right_bound)"
   ]
  },
  {
   "cell_type": "markdown",
   "metadata": {},
   "source": [
    "AA-тест."
   ]
  },
  {
   "cell_type": "code",
   "execution_count": 3,
   "metadata": {},
   "outputs": [
    {
     "data": {
      "application/vnd.jupyter.widget-view+json": {
       "model_id": "5b5ae92e81d1441d9c346b78724e2301",
       "version_major": 2,
       "version_minor": 0
      },
      "text/plain": [
       "HBox(children=(FloatProgress(value=0.0, max=100000.0), HTML(value='')))"
      ]
     },
     "metadata": {},
     "output_type": "display_data"
    },
    {
     "name": "stdout",
     "output_type": "stream",
     "text": [
      "\n",
      "Реальный уровень значимости: 0.0511; доверительный интервал: [0.0497, 0.0525]\n"
     ]
    }
   ],
   "source": [
    "# 3. Заводим счетчик\n",
    "bad_cnt = 0\n",
    "\n",
    "# 4. Цикл проверки\n",
    "N = 100000\n",
    "for i in tqdm_notebook(range(N)):\n",
    "    # 4.a. Тестирую AA - тест\n",
    "    control = sps.expon(scale=1000).rvs(500)\n",
    "    test = sps.expon(scale=1000).rvs(600)\n",
    "\n",
    "    # 4.b. Запускаю критерий\n",
    "    _, _, _, left_bound, right_bound = absolute_ttest(control, test)\n",
    "    \n",
    "    # 4.c. Проверяю, лежит ли истинная разница средних в доверительном интервале\n",
    "    if left_bound > 0 or right_bound < 0:\n",
    "        bad_cnt += 1\n",
    "\n",
    "# 5. Строю доверительный интервал для конверсии ошибок у критерия.\n",
    "left_real_level, right_real_level = proportion_confint(count = bad_cnt, nobs = N, alpha=0.05, method='wilson')\n",
    "# Результат\n",
    "print(f\"Реальный уровень значимости: {round(bad_cnt / N, 4)};\"\n",
    "      f\" доверительный интервал: [{round(left_real_level, 4)}, {round(right_real_level, 4)}]\")"
   ]
  },
  {
   "cell_type": "markdown",
   "metadata": {},
   "source": [
    "# Относительный t-test критерий"
   ]
  },
  {
   "cell_type": "markdown",
   "metadata": {},
   "source": [
    "## Корректный критерий\n",
    "\n",
    "AB-проверка"
   ]
  },
  {
   "cell_type": "code",
   "execution_count": 4,
   "metadata": {},
   "outputs": [],
   "source": [
    "# 2. Создание тестируемого критерия\n",
    "def relative_ttest(control, test):\n",
    "    mean_control = np.mean(control)\n",
    "    var_mean_control  = np.var(control) / len(control)\n",
    "\n",
    "    difference_mean = np.mean(test) - mean_control\n",
    "    difference_mean_var  = np.var(test) / len(test) + var_mean_control\n",
    "    \n",
    "    covariance = -var_mean_control\n",
    "\n",
    "    relative_mu = difference_mean / mean_control\n",
    "    relative_var = difference_mean_var / (mean_control ** 2) \\\n",
    "                    + var_mean_control * ((difference_mean ** 2) / (mean_control ** 4))\\\n",
    "                    - 2 * (difference_mean / (mean_control ** 3)) * covariance\n",
    "    relative_distribution = sps.norm(loc=relative_mu, scale=np.sqrt(relative_var))\n",
    "    left_bound, right_bound = relative_distribution.ppf([0.025, 0.975])\n",
    "    \n",
    "    ci_length = (right_bound - left_bound)\n",
    "    pvalue = 2 * min(relative_distribution.cdf(0), relative_distribution.sf(0))\n",
    "    effect = relative_mu\n",
    "    return ExperimentComparisonResults(pvalue, effect, ci_length, left_bound, right_bound)"
   ]
  },
  {
   "cell_type": "code",
   "execution_count": 5,
   "metadata": {},
   "outputs": [
    {
     "data": {
      "application/vnd.jupyter.widget-view+json": {
       "model_id": "6a89e2cbab2243d89866c8f76cab82df",
       "version_major": 2,
       "version_minor": 0
      },
      "text/plain": [
       "HBox(children=(FloatProgress(value=0.0, max=100000.0), HTML(value='')))"
      ]
     },
     "metadata": {},
     "output_type": "display_data"
    },
    {
     "name": "stdout",
     "output_type": "stream",
     "text": [
      "\n",
      "Реальный уровень значимости: 0.0501; доверительный интервал: [0.0487, 0.0514]\n"
     ]
    }
   ],
   "source": [
    "# 3. Заводим счетчик\n",
    "bad_cnt = 0\n",
    "\n",
    "# 4. Цикл проверки\n",
    "N = 100000\n",
    "for i in tqdm_notebook(range(N)):\n",
    "    # 4.a. Тестирую AB - тест\n",
    "    control = sps.expon(scale=1000).rvs(2000)\n",
    "    test = sps.expon(scale=1000).rvs(2100)\n",
    "    test *= 2\n",
    "\n",
    "    # 4.b. Запускаю критерий\n",
    "    _, _, _, left_bound, right_bound = relative_ttest(control, test)\n",
    "    \n",
    "    # 4.c. Проверяю, лежит ли истинная разница средних в доверительном интервале\n",
    "    if left_bound > 1 or right_bound < 1:\n",
    "        bad_cnt += 1\n",
    "\n",
    "# 5. Строю доверительный интервал для конверсии ошибок у критерия.\n",
    "left_real_level, right_real_level = proportion_confint(count = bad_cnt, nobs = N, alpha=0.05, method='wilson')\n",
    "# Результат\n",
    "print(f\"Реальный уровень значимости: {round(bad_cnt / N, 4)};\"\n",
    "      f\" доверительный интервал: [{round(left_real_level, 4)}, {round(right_real_level, 4)}]\")\n"
   ]
  },
  {
   "cell_type": "markdown",
   "metadata": {},
   "source": [
    "## Некорректный критерий"
   ]
  },
  {
   "cell_type": "code",
   "execution_count": 6,
   "metadata": {},
   "outputs": [],
   "source": [
    "# 2. Создание тестируемого критерия\n",
    "def relative_ttest(control, test):\n",
    "    mean_control = np.mean(control)\n",
    "    mean_test = np.mean(test)\n",
    "    var_mean_control  = np.var(control) / len(control)\n",
    "    var_mean_test  = np.var(test) / len(test)\n",
    "\n",
    "    difference_mean = mean_test - mean_control\n",
    "    difference_mean_var = var_mean_control + var_mean_test\n",
    "    difference_distribution = sps.norm(loc=difference_mean, scale=np.sqrt(difference_mean_var))\n",
    "\n",
    "    left_bound, right_bound = difference_distribution.ppf([0.025, 0.975])\n",
    "    left_bound = left_bound / np.mean(control)   # Деление на среднее\n",
    "    right_bound = right_bound / np.mean(control) # Деление на среднее\n",
    "\n",
    "    ci_length = (right_bound - left_bound)\n",
    "    pvalue = 2 * min(difference_distribution.cdf(0), difference_distribution.sf(0))\n",
    "    effect = difference_mean\n",
    "    return ExperimentComparisonResults(pvalue, effect, ci_length, left_bound, right_bound)"
   ]
  },
  {
   "cell_type": "markdown",
   "metadata": {},
   "source": [
    "AB - проверка"
   ]
  },
  {
   "cell_type": "code",
   "execution_count": 7,
   "metadata": {},
   "outputs": [
    {
     "data": {
      "application/vnd.jupyter.widget-view+json": {
       "model_id": "67b4cf614d2c42abb82436245d1bd96c",
       "version_major": 2,
       "version_minor": 0
      },
      "text/plain": [
       "HBox(children=(FloatProgress(value=0.0, max=100000.0), HTML(value='')))"
      ]
     },
     "metadata": {},
     "output_type": "display_data"
    },
    {
     "name": "stdout",
     "output_type": "stream",
     "text": [
      "\n",
      "Реальный уровень значимости: 0.1278; доверительный интервал: [0.1258, 0.1299]\n"
     ]
    }
   ],
   "source": [
    "# 3. Заводим счетчик\n",
    "bad_cnt = 0\n",
    "\n",
    "# 4. Цикл проверки\n",
    "N = 100000\n",
    "for i in tqdm_notebook(range(N)):\n",
    "    # 4.a. Тестирую AB - тест\n",
    "    control = sps.expon(scale=1000).rvs(1000)\n",
    "    test = sps.expon(scale=1000).rvs(1100)\n",
    "    test *= 2\n",
    "\n",
    "    # 4.b. Запускаю критерий\n",
    "    _, _, _, left_bound, right_bound = relative_ttest(control, test)\n",
    "    \n",
    "    # 4.c. Проверяю, лежит ли истинная разница средних в доверительном интервале\n",
    "    if left_bound > 1 or right_bound < 1:\n",
    "        bad_cnt += 1\n",
    "\n",
    "# 5. Строю доверительный интервал для конверсии ошибок у критерия.\n",
    "left_real_level, right_real_level = proportion_confint(count = bad_cnt, nobs = N, alpha=0.05, method='wilson')\n",
    "# Результат\n",
    "print(f\"Реальный уровень значимости: {round(bad_cnt / N, 4)};\"\n",
    "      f\" доверительный интервал: [{round(left_real_level, 4)}, {round(right_real_level, 4)}]\")"
   ]
  },
  {
   "cell_type": "code",
   "execution_count": null,
   "metadata": {},
   "outputs": [],
   "source": []
  }
 ],
 "metadata": {
  "kernelspec": {
   "display_name": "Python 3",
   "language": "python",
   "name": "python3"
  },
  "language_info": {
   "codemirror_mode": {
    "name": "ipython",
    "version": 3
   },
   "file_extension": ".py",
   "mimetype": "text/x-python",
   "name": "python",
   "nbconvert_exporter": "python",
   "pygments_lexer": "ipython3",
   "version": "3.8.3"
  }
 },
 "nbformat": 4,
 "nbformat_minor": 5
}
